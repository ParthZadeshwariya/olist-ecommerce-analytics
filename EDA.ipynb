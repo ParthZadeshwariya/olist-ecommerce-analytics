{
 "cells": [
  {
   "cell_type": "code",
   "execution_count": 9,
   "id": "c4a7bd56-f99e-41a5-a3f4-816a874333e6",
   "metadata": {},
   "outputs": [],
   "source": [
    "import pandas as pd\n",
    "from sqlalchemy import create_engine\n",
    "import os\n",
    "from dotenv import load_dotenv\n",
    "\n",
    "# Database connection details\n",
    "load_dotenv(\"creds.env\")\n",
    "db_user = os.getenv(\"DB_USER\")\n",
    "db_password = os.getenv(\"DB_PASSWORD\")\n",
    "db_host = os.getenv(\"DB_HOST\")\n",
    "db_port = os.getenv(\"DB_PORT\")\n",
    "db_name = os.getenv(\"DB_NAME\")\n",
    "\n",
    "# Create connection\n",
    "engine = create_engine(f\"postgresql+psycopg2://{db_user}:{db_password}@{db_host}:{db_port}/{db_name}\")\n"
   ]
  },
  {
   "cell_type": "code",
   "execution_count": 11,
   "id": "1c4afdad",
   "metadata": {},
   "outputs": [],
   "source": [
    "customers_df = pd.read_sql(\"SELECT * FROM customers\", engine)\n",
    "orders_df = pd.read_sql(\"SELECT * FROM orders\", engine)\n",
    "payments_df = pd.read_sql(\"SELECT * FROM payments\", engine)\n",
    "products_df = pd.read_sql(\"SELECT * FROM products\", engine)\n",
    "sellers_df = pd.read_sql(\"SELECT * FROM sellers\", engine)\n",
    "order_items_df = pd.read_sql(\"SELECT * FROM order_items\", engine)\n",
    "# orders_df.head()"
   ]
  },
  {
   "cell_type": "code",
   "execution_count": 12,
   "id": "f8aa2ae2",
   "metadata": {},
   "outputs": [
    {
     "name": "stdout",
     "output_type": "stream",
     "text": [
      "                           order_id                       customer_id  \\\n",
      "0  001d8f0e34a38c37f7dba2a37d4eba8b  d987da9fb4086ab7c2c0f83963cd6722   \n",
      "1  00010242fe8c5a6d1ba2dd792cb16214  3ce436f183e68e07877b285a838db11a   \n",
      "2  00018f77f2f0320c557190d7a144bdd3  f6dd3ec061db4e3987629fe6b26e5cce   \n",
      "3  000229ec398224ef6ca0657da4fc703e  6489ae5e4333f3693df5ad4372dab6d3   \n",
      "4  00024acbcdf0a6daa1e931b038114c75  d4eb9395c8c0431ee92fce09860c5a06   \n",
      "\n",
      "  order_purchase_timestamp  payment_value                        product_id  \\\n",
      "0      2017-05-14 17:19:44          53.54  e67307ff0f15ade43fcb6e670be7a74c   \n",
      "1      2017-09-13 08:59:02          72.19  4244733e06e7ecb4970a6e2683c13e61   \n",
      "2      2017-04-26 10:53:06         259.83  e5f2d52b802189ee658865ca93d83a8f   \n",
      "3      2018-01-14 14:33:31         216.87  c777355d18b72b67abbeef9df44fd0fd   \n",
      "4      2018-08-08 10:00:35          25.78  7634da152a4610f1595efa32f14722fc   \n",
      "\n",
      "                          seller_id product_category_name  \\\n",
      "0  f4aba7c0bca51484c30ab7bdc34bcdd1          beleza_saude   \n",
      "1  48436dade18ac8b2bce089ec2a041202            cool_stuff   \n",
      "2  dd7ddc04e1b6c2c614352b383efe2d36              pet_shop   \n",
      "3  5b51032eddd242adc84c38acab88f23d      moveis_decoracao   \n",
      "4  9d7a1d34a5052409006425275ba1c2b4            perfumaria   \n",
      "\n",
      "                 customer_unique_id  \n",
      "0  870a0bdc769f9a7870309036740e79ea  \n",
      "1  871766c5855e863f6eccc05f988b23cb  \n",
      "2  eb28e67c4c0b83846050ddfb8a35d051  \n",
      "3  3818d81c6709e39d06b2738a8d3a2474  \n",
      "4  af861d436cfc08b2c2ddefd0ba074622  \n"
     ]
    }
   ],
   "source": [
    "query = \"\"\" \n",
    "    SELECT o.order_id,\n",
    "        o.customer_id,\n",
    "        o.order_purchase_timestamp,\n",
    "        p.payment_value,\n",
    "        oi.product_id,\n",
    "        oi.seller_id,\n",
    "        pr.product_category_name,\n",
    "        c.customer_unique_id\n",
    "    FROM orders o\n",
    "        LEFT JOIN payments p ON o.order_id = p.order_id\n",
    "        LEFT JOIN order_items oi ON o.order_id = oi.order_id\n",
    "        LEFT JOIN products pr ON oi.product_id = pr.product_id\n",
    "        LEFT JOIN customers c ON o.customer_id = c.customer_id\n",
    "        LEFT JOIN sellers s ON oi.seller_id = s.seller_id;\n",
    "\"\"\"\n",
    "\n",
    "main_df = pd.read_sql(query, engine)\n",
    "\n",
    "print(main_df.head())"
   ]
  },
  {
   "cell_type": "code",
   "execution_count": null,
   "id": "0722f434",
   "metadata": {},
   "outputs": [
    {
     "name": "stdout",
     "output_type": "stream",
     "text": [
      "<class 'pandas.core.frame.DataFrame'>\n",
      "RangeIndex: 118434 entries, 0 to 118433\n",
      "Data columns (total 8 columns):\n",
      " #   Column                    Non-Null Count   Dtype         \n",
      "---  ------                    --------------   -----         \n",
      " 0   order_id                  118434 non-null  object        \n",
      " 1   customer_id               118434 non-null  object        \n",
      " 2   order_purchase_timestamp  118434 non-null  datetime64[ns]\n",
      " 3   payment_value             118431 non-null  float64       \n",
      " 4   product_id                117604 non-null  object        \n",
      " 5   seller_id                 117604 non-null  object        \n",
      " 6   product_category_name     117604 non-null  object        \n",
      " 7   customer_unique_id        118434 non-null  object        \n",
      "dtypes: datetime64[ns](1), float64(1), object(6)\n",
      "memory usage: 7.2+ MB\n",
      "None\n",
      "                                order_id                       customer_id  \\\n",
      "count                             118434                            118434   \n",
      "unique                             99441                             99441   \n",
      "top     895ab968e7bb0d5659d16cd74cd1650c  270c23a11d024a44c896d1894b261a83   \n",
      "freq                                  63                                63   \n",
      "mean                                 NaN                               NaN   \n",
      "min                                  NaN                               NaN   \n",
      "25%                                  NaN                               NaN   \n",
      "50%                                  NaN                               NaN   \n",
      "75%                                  NaN                               NaN   \n",
      "max                                  NaN                               NaN   \n",
      "std                                  NaN                               NaN   \n",
      "\n",
      "             order_purchase_timestamp  payment_value  \\\n",
      "count                          118434  118431.000000   \n",
      "unique                            NaN            NaN   \n",
      "top                               NaN            NaN   \n",
      "freq                              NaN            NaN   \n",
      "mean    2017-12-30 04:00:24.559636480     172.849395   \n",
      "min               2016-09-04 21:15:19       0.000000   \n",
      "25%     2017-09-11 12:53:55.249999872      60.860000   \n",
      "50%        2018-01-17 17:57:56.500000     108.200000   \n",
      "75%               2018-05-03 19:05:01     189.245000   \n",
      "max               2018-10-17 17:30:18   13664.080000   \n",
      "std                               NaN     268.259831   \n",
      "\n",
      "                              product_id                         seller_id  \\\n",
      "count                             117604                            117604   \n",
      "unique                             32951                              3095   \n",
      "top     aca2eb7d00ea1a7b8ebd4e68314663af  4a3ca9315b744ce9f8e9374361493884   \n",
      "freq                                 536                              2133   \n",
      "mean                                 NaN                               NaN   \n",
      "min                                  NaN                               NaN   \n",
      "25%                                  NaN                               NaN   \n",
      "50%                                  NaN                               NaN   \n",
      "75%                                  NaN                               NaN   \n",
      "max                                  NaN                               NaN   \n",
      "std                                  NaN                               NaN   \n",
      "\n",
      "       product_category_name                customer_unique_id  \n",
      "count                 117604                            118434  \n",
      "unique                    74                             96096  \n",
      "top          cama_mesa_banho  9a736b248f67d166d2fbb006bcb877c3  \n",
      "freq                   11823                                75  \n",
      "mean                     NaN                               NaN  \n",
      "min                      NaN                               NaN  \n",
      "25%                      NaN                               NaN  \n",
      "50%                      NaN                               NaN  \n",
      "75%                      NaN                               NaN  \n",
      "max                      NaN                               NaN  \n",
      "std                      NaN                               NaN  \n",
      "order_id                      0\n",
      "customer_id                   0\n",
      "order_purchase_timestamp      0\n",
      "payment_value                 3\n",
      "product_id                  830\n",
      "seller_id                   830\n",
      "product_category_name       830\n",
      "customer_unique_id            0\n",
      "dtype: int64\n"
     ]
    }
   ],
   "source": [
    "# Check missing values\n",
    "print(main_df.isnull().sum())"
   ]
  },
  {
   "cell_type": "code",
   "execution_count": 15,
   "id": "f472c218",
   "metadata": {},
   "outputs": [
    {
     "data": {
      "text/plain": [
       "order_id                    0\n",
       "customer_id                 0\n",
       "order_purchase_timestamp    0\n",
       "payment_value               0\n",
       "product_id                  0\n",
       "seller_id                   0\n",
       "product_category_name       0\n",
       "customer_unique_id          0\n",
       "dtype: int64"
      ]
     },
     "execution_count": 15,
     "metadata": {},
     "output_type": "execute_result"
    }
   ],
   "source": [
    "# very few null values/ we can keep if we want as they as cleaning already performed using SQL\n",
    "# they exist for a reason :\n",
    "#   payment_value (3 nulls)\n",
    "#   Could mean orders without payment recorded (canceled, failed, or data issue).\n",
    "# product_id, seller_id, product_category_name (830 nulls each)\n",
    "# Likely orders that don’t have items mapped (maybe canceled orders, or missing product mapping).\n",
    "# focus = sales analysis, these rows don’t add value (no product, no seller → can’t aggregate sales).\n",
    "# therefore, dropping nulls\n",
    "\n",
    "clean_df = main_df.dropna(subset=['product_id', 'seller_id', 'product_category_name', 'payment_value'])\n",
    "clean_df.isna().sum()"
   ]
  },
  {
   "cell_type": "code",
   "execution_count": 17,
   "id": "a7380f58",
   "metadata": {},
   "outputs": [
    {
     "name": "stdout",
     "output_type": "stream",
     "text": [
      "(117601, 8)\n"
     ]
    }
   ],
   "source": [
    "print(clean_df.shape)"
   ]
  },
  {
   "cell_type": "code",
   "execution_count": null,
   "id": "57842b37",
   "metadata": {},
   "outputs": [
    {
     "data": {
      "text/plain": [
       "count    117601.000000\n",
       "mean        172.686752\n",
       "std         267.592290\n",
       "min           0.000000\n",
       "25%          60.870000\n",
       "50%         108.210000\n",
       "75%         189.260000\n",
       "max       13664.080000\n",
       "Name: payment_value, dtype: float64"
      ]
     },
     "execution_count": 18,
     "metadata": {},
     "output_type": "execute_result"
    }
   ],
   "source": [
    "# stats of payment_value\n",
    "clean_df['payment_value'].describe()"
   ]
  },
  {
   "cell_type": "code",
   "execution_count": null,
   "id": "dedb21c8",
   "metadata": {},
   "outputs": [
    {
     "data": {
      "text/plain": [
       "74"
      ]
     },
     "execution_count": 24,
     "metadata": {},
     "output_type": "execute_result"
    }
   ],
   "source": [
    "# 74 product categories\n",
    "clean_df['product_category_name'].unique().__len__()"
   ]
  },
  {
   "cell_type": "code",
   "execution_count": 29,
   "id": "c3ff1b58",
   "metadata": {},
   "outputs": [
    {
     "data": {
      "text/plain": [
       "<Axes: title={'center': 'Monthly Sales Trend'}, xlabel='order_purchase_timestamp'>"
      ]
     },
     "execution_count": 29,
     "metadata": {},
     "output_type": "execute_result"
    },
    {
     "data": {
      "image/png": "[encoded data removed]",
      "text/plain": [
       "<Figure size 1000x500 with 1 Axes>"
      ]
     },
     "metadata": {},
     "output_type": "display_data"
    }
   ],
   "source": [
    "sales_trend = clean_df.groupby(clean_df['order_purchase_timestamp'].dt.to_period(\"M\"))['payment_value'].sum()\n",
    "sales_trend.plot(figsize=(10,5), title=\"Monthly Sales Trend\")\n"
   ]
  },
  {
   "cell_type": "code",
   "execution_count": 30,
   "id": "eb6740e4",
   "metadata": {},
   "outputs": [
    {
     "name": "stdout",
     "output_type": "stream",
     "text": [
      "product_category_name\n",
      "cama_mesa_banho           1712553.67\n",
      "beleza_saude              1657373.12\n",
      "informatica_acessorios    1585330.45\n",
      "moveis_decoracao          1430176.39\n",
      "relogios_presentes        1429216.68\n",
      "esporte_lazer             1392127.56\n",
      "utilidades_domesticas     1094758.13\n",
      "automotivo                 852294.33\n",
      "ferramentas_jardim         838280.75\n",
      "cool_stuff                 779698.00\n",
      "Name: payment_value, dtype: float64\n"
     ]
    }
   ],
   "source": [
    "# top products\n",
    "top_products = main_df.groupby('product_category_name')['payment_value'].sum().sort_values(ascending=False).head(10)\n",
    "print(top_products)\n"
   ]
  },
  {
   "cell_type": "code",
   "execution_count": null,
   "id": "9f74da5b",
   "metadata": {},
   "outputs": [],
   "source": []
  }
 ],
 "metadata": {
  "kernelspec": {
   "display_name": "Python 3",
   "language": "python",
   "name": "python3"
  },
  "language_info": {
   "codemirror_mode": {
    "name": "ipython",
    "version": 3
   },
   "file_extension": ".py",
   "mimetype": "text/x-python",
   "name": "python",
   "nbconvert_exporter": "python",
   "pygments_lexer": "ipython3",
   "version": "3.13.1"
  }
 },
 "nbformat": 4,
 "nbformat_minor": 5
}
